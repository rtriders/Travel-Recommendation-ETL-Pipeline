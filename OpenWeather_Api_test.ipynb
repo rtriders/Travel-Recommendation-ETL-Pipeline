{
 "cells": [
  {
   "cell_type": "code",
   "execution_count": 0,
   "metadata": {
    "application/vnd.databricks.v1+cell": {
     "cellMetadata": {
      "byteLimit": 2048000,
      "rowLimit": 10000
     },
     "inputWidgets": {},
     "nuid": "01b1569b-a6ef-42d8-a24f-43c67131b70b",
     "showTitle": false,
     "tableResultSettingsMap": {},
     "title": ""
    }
   },
   "outputs": [
    {
     "output_type": "display_data",
     "data": {
      "application/vnd.databricks.v1+bamboolib_hint": "{\"pd.DataFrames\": [], \"version\": \"0.0.1\"}",
      "text/plain": []
     },
     "metadata": {},
     "output_type": "display_data"
    }
   ],
   "source": [
    "from pyspark.sql.functions import col,when\n",
    "import pandas as pd\n",
    "from pyspark.sql.types import StructType, StructField, StringType, DoubleType, IntegerType\n",
    "import requests\n",
    "from pyspark.sql.functions import when, col, array, concat_ws\n",
    "import pandas as pd\n"
   ]
  },
  {
   "cell_type": "code",
   "execution_count": 0,
   "metadata": {
    "application/vnd.databricks.v1+cell": {
     "cellMetadata": {
      "byteLimit": 2048000,
      "rowLimit": 10000
     },
     "inputWidgets": {},
     "nuid": "f6c963bc-429c-45d6-b5e4-ed3b9f8f1f09",
     "showTitle": false,
     "tableResultSettingsMap": {},
     "title": ""
    }
   },
   "outputs": [
    {
     "output_type": "stream",
     "name": "stdout",
     "output_type": "stream",
     "text": [
      "{'coord': {'lon': 126.9778, 'lat': 37.5683}, 'weather': [{'id': 800, 'main': 'Clear', 'description': 'clear sky', 'icon': '01n'}], 'base': 'stations', 'main': {'temp': 272.81, 'feels_like': 272.81, 'temp_min': 272.81, 'temp_max': 272.81, 'pressure': 1023, 'humidity': 39, 'sea_level': 1023, 'grnd_level': 1013}, 'visibility': 10000, 'wind': {'speed': 1.04, 'deg': 171, 'gust': 0.98}, 'clouds': {'all': 0}, 'dt': 1735661644, 'sys': {'country': 'KR', 'sunrise': 1735685212, 'sunset': 1735719833}, 'timezone': 32400, 'id': 1835848, 'name': 'Seoul', 'cod': 200}\n"
     ]
    }
   ],
   "source": [
    "api_key = \"408a589f7f2d505ff09be001d178006b\" \n",
    "base_url = \"http://api.openweathermap.org/data/2.5/weather\"\n",
    "city = \"Seoul\"\n",
    "url = f\"{base_url}?q={city}&appid={api_key}\"\n",
    "response = requests.get(url)\n",
    "print(response.json())"
   ]
  },
  {
   "cell_type": "code",
   "execution_count": 0,
   "metadata": {
    "application/vnd.databricks.v1+cell": {
     "cellMetadata": {
      "byteLimit": 2048000,
      "rowLimit": 10000
     },
     "inputWidgets": {},
     "nuid": "61d614ef-8264-4c7c-88e2-2210e3f74c87",
     "showTitle": false,
     "tableResultSettingsMap": {},
     "title": ""
    }
   },
   "outputs": [
    {
     "output_type": "stream",
     "name": "stdout",
     "output_type": "stream",
     "text": [
      "[['London', 6.8, 'heavy intensity rain', 90, 7.2, 5.9, 7.95, 1006], ['New York', 8.24, 'mist', 88, 5.66, 6.88, 8.98, 1000], ['Tokyo', 6.49, 'few clouds', 43, 3.09, 5.88, 8.08, 1017], ['Mumbai', 27.99, 'haze', 51, 2.57, 27.99, 27.99, 1013], ['Sydney', 23.43, 'overcast clouds', 82, 8.23, 21.79, 24.28, 1014], ['Singapore', 26.75, 'broken clouds', 83, 4.63, 26.61, 26.97, 1011], ['Seoul', -0.24, 'clear sky', 80, 2.57, -1.22, -0.24, 1024], ['Beijing', -3.06, 'broken clouds', 32, 2.02, -3.06, -3.06, 1029], ['Cape Town', 24.7, 'clear sky', 47, 7.72, 23.84, 26.72, 1013], ['Moscow', -0.42, 'light snow', 98, 6.31, -1.76, -0.35, 1000], ['Paris', 7.4, 'overcast clouds', 88, 8.23, 6.32, 8.02, 1018], ['Venice', 19.71, 'clear sky', 94, 0.45, 18.35, 19.99, 1020], ['Berlin', 7.0, 'scattered clouds', 77, 11.62, 6.66, 7.77, 1008], ['Ottawa', 2.01, 'light rain', 89, 5.66, 0.91, 2.77, 1001], ['Canberra', 17.09, 'broken clouds', 82, 3.6, 16.38, 18.07, 1016], ['Brasília', 22.51, 'thunderstorm', 83, 2.57, 22.01, 22.51, 1015], ['Madrid', 10.13, 'few clouds', 59, 1.54, 9.58, 10.77, 1029], ['Rome', 5.66, 'overcast clouds', 76, 0, 4.03, 6.98, 1023], ['Bangkok', 25.29, 'clear sky', 58, 3.21, 24.96, 26.94, 1012], ['Nairobi', 24.93, 'few clouds', 44, 5.14, 24.93, 24.93, 1010], ['Buenos Aires', 29.23, 'overcast clouds', 62, 8.05, 27.82, 30.94, 1010], ['Wellington', 13.81, 'drizzle', 88, 6.17, 13.81, 13.81, 1008], ['Oslo', -3.98, 'light snow', 59, 3.84, -5.25, -3.91, 992], ['Cairo', 19.42, 'scattered clouds', 45, 3.6, 19.12, 19.42, 1026], ['Helsinki', -1.54, 'broken clouds', 87, 4.02, -2.53, -1.05, 983], ['Abu Dhabi', 23.44, 'few clouds', 60, 7.2, 23.01, 23.86, 1017]]\n"
     ]
    }
   ],
   "source": [
    "\n",
    "Weather_list1 = []\n",
    "# Your OpenWeather API key\n",
    "api_key = \"408a589f7f2d505ff09be001d178006b\"  # Replace with your actual API key\n",
    "\n",
    "# List of cities to get weather for\n",
    "cities = [\"London\", \"New York\", \"Tokyo\", \"Mumbai\", \"Sydney\", \"Singapore\", \"Seoul\", \"Beijing\", \"Cape Town\",\"Moscow\", \"Paris\", \"Venice\", \"Berlin\", \"Ottawa\", \"Canberra\", \"Brasília\", \"Madrid\", \"Rome\", \"Bangkok\",\"Nairobi\", \"Buenos Aires\", \"Wellington\", \"Oslo\", \"Cairo\", \"Helsinki\",\"Abu Dhabi\"]\n",
    "\n",
    "\n",
    "# Base URL for the OpenWeather API\n",
    "base_url = \"http://api.openweathermap.org/data/2.5/weather\"\n",
    "\n",
    "# Function to fetch weather for a single city\n",
    "def get_weather(city, api_key):\n",
    "    try:\n",
    "        # Construct the request URL\n",
    "        url = f\"{base_url}?q={city}&appid={api_key}\"\n",
    "        response = requests.get(url)\n",
    "        \n",
    "        if response.status_code == 200:\n",
    "            data = response.json()\n",
    "            # Extract useful information\n",
    "            weather_info = [\n",
    "                data[\"name\"],\n",
    "                round(data[\"main\"][\"temp\"] - 273.15, 2),  # Convert Kelvin to Celsius\n",
    "                data[\"weather\"][0][\"description\"],\n",
    "                data[\"main\"][\"humidity\"],\n",
    "                data[\"wind\"][\"speed\"],\n",
    "                round(data[\"main\"][\"temp_min\"] - 273.15, 2),\n",
    "                round(data[\"main\"][\"temp_max\"] - 273.15, 2),\n",
    "                data[\"main\"][\"sea_level\"]\n",
    "                \n",
    "                \n",
    "            ]\n",
    "            return weather_info\n",
    "        else:\n",
    "            return {\"city\": city, \"error\": f\"Error {response.status_code}: {response.text}\"}\n",
    "    except Exception as e:\n",
    "        return {\"city\": city, \"error\": str(e)}\n",
    "\n",
    "# Fetch weather for all cities\n",
    "for city in cities:\n",
    "    weather = get_weather(city, api_key)\n",
    "    Weather_list1.append(weather)\n",
    "\n",
    "\n",
    "print(Weather_list1)\n",
    "\n",
    "df_new = pd.DataFrame(Weather_list1, columns=['City', 'temperature', 'weather', 'humidity', 'wind speed', 'Min_temperature', 'Max_temperature', 'sea_level'])\n",
    "\n",
    "df_2 = df_new.copy()\n",
    "   \n",
    "# Normalize columns directly using a loop\n",
    "columns_to_normalize = ['temperature', 'humidity', 'wind speed']\n",
    "normalized_columns = []\n",
    "\n",
    "# Loop through each column to normalize and store normalized column names\n",
    "for column in columns_to_normalize:\n",
    "    min_val = df_new[column].min()\n",
    "    max_val = df_new[column].max()\n",
    "    normalized_col_name = f\"{column}_normalized\"\n",
    "    df_new[normalized_col_name] = (df_new[column] - min_val) / (max_val - min_val)\n",
    "    normalized_columns.append(normalized_col_name)\n",
    "\n",
    "# Calculate Comfort Index using a loop\n",
    "comfort_index = []\n",
    "for _, row in df_new.iterrows():\n",
    "    temperature_score = 0.4 * (1 - abs(row['temperature_normalized'] - 0.5))\n",
    "    humidity_score = 0.3 * (1 - abs(row['humidity_normalized'] - 0.5))\n",
    "    wind_speed_score = 0.2 * (1 - row['wind speed_normalized'])\n",
    "    weather_condition_score = 0.1 if \"clear\" in row['weather'].lower() else 0.05\n",
    "    comfort_index.append(\n",
    "        temperature_score + humidity_score + wind_speed_score + weather_condition_score\n",
    "    )\n",
    "\n",
    "# Assign the Comfort Index to the DataFrame\n",
    "df_new['Comfort_Index'] = comfort_index\n",
    "\n",
    "df_new_final = df_new[['City','Comfort_Index']].sort_values(by='Comfort_Index',ascending=False)\n",
    "\n",
    "\n"
   ]
  },
  {
   "cell_type": "code",
   "execution_count": 0,
   "metadata": {
    "application/vnd.databricks.v1+cell": {
     "cellMetadata": {
      "byteLimit": 2048000,
      "rowLimit": 10000
     },
     "inputWidgets": {},
     "nuid": "2efca7fb-ee82-49c0-9ded-543094080fd7",
     "showTitle": false,
     "tableResultSettingsMap": {},
     "title": ""
    }
   },
   "outputs": [
    {
     "output_type": "display_data",
     "data": {
      "text/html": [
       "<div>\n",
       "<style scoped>\n",
       "    .dataframe tbody tr th:only-of-type {\n",
       "        vertical-align: middle;\n",
       "    }\n",
       "\n",
       "    .dataframe tbody tr th {\n",
       "        vertical-align: top;\n",
       "    }\n",
       "\n",
       "    .dataframe thead th {\n",
       "        text-align: right;\n",
       "    }\n",
       "</style>\n",
       "<table border=\"1\" class=\"dataframe\">\n",
       "  <thead>\n",
       "    <tr style=\"text-align: right;\">\n",
       "      <th></th>\n",
       "      <th>City</th>\n",
       "      <th>Comfort_Index</th>\n",
       "    </tr>\n",
       "  </thead>\n",
       "  <tbody>\n",
       "    <tr>\n",
       "      <th>16</th>\n",
       "      <td>Madrid</td>\n",
       "      <td>0.866170</td>\n",
       "    </tr>\n",
       "    <tr>\n",
       "      <th>17</th>\n",
       "      <td>Rome</td>\n",
       "      <td>0.816110</td>\n",
       "    </tr>\n",
       "    <tr>\n",
       "      <th>11</th>\n",
       "      <td>Venice</td>\n",
       "      <td>0.775101</td>\n",
       "    </tr>\n",
       "    <tr>\n",
       "      <th>18</th>\n",
       "      <td>Bangkok</td>\n",
       "      <td>0.760388</td>\n",
       "    </tr>\n",
       "    <tr>\n",
       "      <th>14</th>\n",
       "      <td>Canberra</td>\n",
       "      <td>0.756986</td>\n",
       "    </tr>\n",
       "    <tr>\n",
       "      <th>6</th>\n",
       "      <td>Seoul</td>\n",
       "      <td>0.732631</td>\n",
       "    </tr>\n",
       "    <tr>\n",
       "      <th>21</th>\n",
       "      <td>Wellington</td>\n",
       "      <td>0.724986</td>\n",
       "    </tr>\n",
       "    <tr>\n",
       "      <th>2</th>\n",
       "      <td>Tokyo</td>\n",
       "      <td>0.722922</td>\n",
       "    </tr>\n",
       "    <tr>\n",
       "      <th>23</th>\n",
       "      <td>Cairo</td>\n",
       "      <td>0.715286</td>\n",
       "    </tr>\n",
       "    <tr>\n",
       "      <th>15</th>\n",
       "      <td>Brasília</td>\n",
       "      <td>0.704887</td>\n",
       "    </tr>\n",
       "    <tr>\n",
       "      <th>1</th>\n",
       "      <td>New York</td>\n",
       "      <td>0.695221</td>\n",
       "    </tr>\n",
       "    <tr>\n",
       "      <th>25</th>\n",
       "      <td>Abu Dhabi</td>\n",
       "      <td>0.673086</td>\n",
       "    </tr>\n",
       "    <tr>\n",
       "      <th>3</th>\n",
       "      <td>Mumbai</td>\n",
       "      <td>0.657065</td>\n",
       "    </tr>\n",
       "    <tr>\n",
       "      <th>22</th>\n",
       "      <td>Oslo</td>\n",
       "      <td>0.656634</td>\n",
       "    </tr>\n",
       "    <tr>\n",
       "      <th>0</th>\n",
       "      <td>London</td>\n",
       "      <td>0.642280</td>\n",
       "    </tr>\n",
       "    <tr>\n",
       "      <th>10</th>\n",
       "      <td>Paris</td>\n",
       "      <td>0.640869</td>\n",
       "    </tr>\n",
       "    <tr>\n",
       "      <th>8</th>\n",
       "      <td>Cape Town</td>\n",
       "      <td>0.639869</td>\n",
       "    </tr>\n",
       "    <tr>\n",
       "      <th>12</th>\n",
       "      <td>Berlin</td>\n",
       "      <td>0.627704</td>\n",
       "    </tr>\n",
       "    <tr>\n",
       "      <th>5</th>\n",
       "      <td>Singapore</td>\n",
       "      <td>0.618362</td>\n",
       "    </tr>\n",
       "    <tr>\n",
       "      <th>19</th>\n",
       "      <td>Nairobi</td>\n",
       "      <td>0.617869</td>\n",
       "    </tr>\n",
       "    <tr>\n",
       "      <th>13</th>\n",
       "      <td>Ottawa</td>\n",
       "      <td>0.615638</td>\n",
       "    </tr>\n",
       "    <tr>\n",
       "      <th>24</th>\n",
       "      <td>Helsinki</td>\n",
       "      <td>0.610198</td>\n",
       "    </tr>\n",
       "    <tr>\n",
       "      <th>4</th>\n",
       "      <td>Sydney</td>\n",
       "      <td>0.600933</td>\n",
       "    </tr>\n",
       "    <tr>\n",
       "      <th>20</th>\n",
       "      <td>Buenos Aires</td>\n",
       "      <td>0.597809</td>\n",
       "    </tr>\n",
       "    <tr>\n",
       "      <th>7</th>\n",
       "      <td>Beijing</td>\n",
       "      <td>0.576313</td>\n",
       "    </tr>\n",
       "    <tr>\n",
       "      <th>9</th>\n",
       "      <td>Moscow</td>\n",
       "      <td>0.534273</td>\n",
       "    </tr>\n",
       "  </tbody>\n",
       "</table>\n",
       "</div>"
      ]
     },
     "metadata": {
      "application/vnd.databricks.v1+output": {
       "addedWidgets": {},
       "arguments": {},
       "data": "<div>\n<style scoped>\n    .dataframe tbody tr th:only-of-type {\n        vertical-align: middle;\n    }\n\n    .dataframe tbody tr th {\n        vertical-align: top;\n    }\n\n    .dataframe thead th {\n        text-align: right;\n    }\n</style>\n<table border=\"1\" class=\"dataframe\">\n  <thead>\n    <tr style=\"text-align: right;\">\n      <th></th>\n      <th>City</th>\n      <th>Comfort_Index</th>\n    </tr>\n  </thead>\n  <tbody>\n    <tr>\n      <th>16</th>\n      <td>Madrid</td>\n      <td>0.866170</td>\n    </tr>\n    <tr>\n      <th>17</th>\n      <td>Rome</td>\n      <td>0.816110</td>\n    </tr>\n    <tr>\n      <th>11</th>\n      <td>Venice</td>\n      <td>0.775101</td>\n    </tr>\n    <tr>\n      <th>18</th>\n      <td>Bangkok</td>\n      <td>0.760388</td>\n    </tr>\n    <tr>\n      <th>14</th>\n      <td>Canberra</td>\n      <td>0.756986</td>\n    </tr>\n    <tr>\n      <th>6</th>\n      <td>Seoul</td>\n      <td>0.732631</td>\n    </tr>\n    <tr>\n      <th>21</th>\n      <td>Wellington</td>\n      <td>0.724986</td>\n    </tr>\n    <tr>\n      <th>2</th>\n      <td>Tokyo</td>\n      <td>0.722922</td>\n    </tr>\n    <tr>\n      <th>23</th>\n      <td>Cairo</td>\n      <td>0.715286</td>\n    </tr>\n    <tr>\n      <th>15</th>\n      <td>Brasília</td>\n      <td>0.704887</td>\n    </tr>\n    <tr>\n      <th>1</th>\n      <td>New York</td>\n      <td>0.695221</td>\n    </tr>\n    <tr>\n      <th>25</th>\n      <td>Abu Dhabi</td>\n      <td>0.673086</td>\n    </tr>\n    <tr>\n      <th>3</th>\n      <td>Mumbai</td>\n      <td>0.657065</td>\n    </tr>\n    <tr>\n      <th>22</th>\n      <td>Oslo</td>\n      <td>0.656634</td>\n    </tr>\n    <tr>\n      <th>0</th>\n      <td>London</td>\n      <td>0.642280</td>\n    </tr>\n    <tr>\n      <th>10</th>\n      <td>Paris</td>\n      <td>0.640869</td>\n    </tr>\n    <tr>\n      <th>8</th>\n      <td>Cape Town</td>\n      <td>0.639869</td>\n    </tr>\n    <tr>\n      <th>12</th>\n      <td>Berlin</td>\n      <td>0.627704</td>\n    </tr>\n    <tr>\n      <th>5</th>\n      <td>Singapore</td>\n      <td>0.618362</td>\n    </tr>\n    <tr>\n      <th>19</th>\n      <td>Nairobi</td>\n      <td>0.617869</td>\n    </tr>\n    <tr>\n      <th>13</th>\n      <td>Ottawa</td>\n      <td>0.615638</td>\n    </tr>\n    <tr>\n      <th>24</th>\n      <td>Helsinki</td>\n      <td>0.610198</td>\n    </tr>\n    <tr>\n      <th>4</th>\n      <td>Sydney</td>\n      <td>0.600933</td>\n    </tr>\n    <tr>\n      <th>20</th>\n      <td>Buenos Aires</td>\n      <td>0.597809</td>\n    </tr>\n    <tr>\n      <th>7</th>\n      <td>Beijing</td>\n      <td>0.576313</td>\n    </tr>\n    <tr>\n      <th>9</th>\n      <td>Moscow</td>\n      <td>0.534273</td>\n    </tr>\n  </tbody>\n</table>\n</div>",
       "datasetInfos": [],
       "metadata": {},
       "removedWidgets": [],
       "textData": null,
       "type": "htmlSandbox"
      }
     },
     "output_type": "display_data"
    }
   ],
   "source": [
    "df_new_final"
   ]
  },
  {
   "cell_type": "code",
   "execution_count": 0,
   "metadata": {
    "application/vnd.databricks.v1+cell": {
     "cellMetadata": {
      "byteLimit": 2048000,
      "rowLimit": 10000
     },
     "inputWidgets": {},
     "nuid": "16c68b29-ed3e-43a2-a4b4-6a82398c7afd",
     "showTitle": false,
     "tableResultSettingsMap": {},
     "title": ""
    }
   },
   "outputs": [
    {
     "output_type": "display_data",
     "data": {
      "text/html": [
       "<div>\n",
       "<style scoped>\n",
       "    .dataframe tbody tr th:only-of-type {\n",
       "        vertical-align: middle;\n",
       "    }\n",
       "\n",
       "    .dataframe tbody tr th {\n",
       "        vertical-align: top;\n",
       "    }\n",
       "\n",
       "    .dataframe thead th {\n",
       "        text-align: right;\n",
       "    }\n",
       "</style>\n",
       "<table border=\"1\" class=\"dataframe\">\n",
       "  <thead>\n",
       "    <tr style=\"text-align: right;\">\n",
       "      <th></th>\n",
       "      <th>City</th>\n",
       "      <th>temperature</th>\n",
       "      <th>weather</th>\n",
       "      <th>humidity</th>\n",
       "      <th>wind speed</th>\n",
       "      <th>Min_temperature</th>\n",
       "      <th>Max_temperature</th>\n",
       "      <th>sea_level</th>\n",
       "    </tr>\n",
       "  </thead>\n",
       "  <tbody>\n",
       "    <tr>\n",
       "      <th>0</th>\n",
       "      <td>London</td>\n",
       "      <td>11.87</td>\n",
       "      <td>broken clouds</td>\n",
       "      <td>79</td>\n",
       "      <td>6.69</td>\n",
       "      <td>10.95</td>\n",
       "      <td>12.30</td>\n",
       "      <td>1017</td>\n",
       "    </tr>\n",
       "    <tr>\n",
       "      <th>1</th>\n",
       "      <td>New York</td>\n",
       "      <td>10.27</td>\n",
       "      <td>clear sky</td>\n",
       "      <td>54</td>\n",
       "      <td>2.06</td>\n",
       "      <td>8.94</td>\n",
       "      <td>11.27</td>\n",
       "      <td>1013</td>\n",
       "    </tr>\n",
       "    <tr>\n",
       "      <th>2</th>\n",
       "      <td>Tokyo</td>\n",
       "      <td>6.26</td>\n",
       "      <td>clear sky</td>\n",
       "      <td>41</td>\n",
       "      <td>6.69</td>\n",
       "      <td>5.33</td>\n",
       "      <td>6.97</td>\n",
       "      <td>1011</td>\n",
       "    </tr>\n",
       "    <tr>\n",
       "      <th>3</th>\n",
       "      <td>Mumbai</td>\n",
       "      <td>27.99</td>\n",
       "      <td>smoke</td>\n",
       "      <td>57</td>\n",
       "      <td>2.06</td>\n",
       "      <td>27.99</td>\n",
       "      <td>27.99</td>\n",
       "      <td>1015</td>\n",
       "    </tr>\n",
       "    <tr>\n",
       "      <th>4</th>\n",
       "      <td>Sydney</td>\n",
       "      <td>21.33</td>\n",
       "      <td>overcast clouds</td>\n",
       "      <td>81</td>\n",
       "      <td>2.57</td>\n",
       "      <td>19.61</td>\n",
       "      <td>22.06</td>\n",
       "      <td>1014</td>\n",
       "    </tr>\n",
       "    <tr>\n",
       "      <th>5</th>\n",
       "      <td>Singapore</td>\n",
       "      <td>25.68</td>\n",
       "      <td>broken clouds</td>\n",
       "      <td>86</td>\n",
       "      <td>3.09</td>\n",
       "      <td>25.50</td>\n",
       "      <td>25.97</td>\n",
       "      <td>1011</td>\n",
       "    </tr>\n",
       "    <tr>\n",
       "      <th>6</th>\n",
       "      <td>Seoul</td>\n",
       "      <td>-6.24</td>\n",
       "      <td>clear sky</td>\n",
       "      <td>86</td>\n",
       "      <td>0.51</td>\n",
       "      <td>-6.24</td>\n",
       "      <td>-6.24</td>\n",
       "      <td>1023</td>\n",
       "    </tr>\n",
       "    <tr>\n",
       "      <th>7</th>\n",
       "      <td>Beijing</td>\n",
       "      <td>-6.06</td>\n",
       "      <td>clear sky</td>\n",
       "      <td>31</td>\n",
       "      <td>1.49</td>\n",
       "      <td>-6.06</td>\n",
       "      <td>-6.06</td>\n",
       "      <td>1022</td>\n",
       "    </tr>\n",
       "    <tr>\n",
       "      <th>8</th>\n",
       "      <td>Cape Town</td>\n",
       "      <td>22.49</td>\n",
       "      <td>few clouds</td>\n",
       "      <td>59</td>\n",
       "      <td>5.14</td>\n",
       "      <td>21.60</td>\n",
       "      <td>23.48</td>\n",
       "      <td>1015</td>\n",
       "    </tr>\n",
       "    <tr>\n",
       "      <th>9</th>\n",
       "      <td>Moscow</td>\n",
       "      <td>0.16</td>\n",
       "      <td>broken clouds</td>\n",
       "      <td>89</td>\n",
       "      <td>5.38</td>\n",
       "      <td>-1.71</td>\n",
       "      <td>0.21</td>\n",
       "      <td>1007</td>\n",
       "    </tr>\n",
       "    <tr>\n",
       "      <th>10</th>\n",
       "      <td>Paris</td>\n",
       "      <td>3.81</td>\n",
       "      <td>mist</td>\n",
       "      <td>95</td>\n",
       "      <td>5.66</td>\n",
       "      <td>2.99</td>\n",
       "      <td>4.49</td>\n",
       "      <td>1028</td>\n",
       "    </tr>\n",
       "    <tr>\n",
       "      <th>11</th>\n",
       "      <td>Venice</td>\n",
       "      <td>23.60</td>\n",
       "      <td>clear sky</td>\n",
       "      <td>86</td>\n",
       "      <td>0.89</td>\n",
       "      <td>23.32</td>\n",
       "      <td>25.03</td>\n",
       "      <td>1016</td>\n",
       "    </tr>\n",
       "    <tr>\n",
       "      <th>12</th>\n",
       "      <td>Berlin</td>\n",
       "      <td>1.93</td>\n",
       "      <td>broken clouds</td>\n",
       "      <td>87</td>\n",
       "      <td>4.02</td>\n",
       "      <td>0.59</td>\n",
       "      <td>2.77</td>\n",
       "      <td>1022</td>\n",
       "    </tr>\n",
       "    <tr>\n",
       "      <th>13</th>\n",
       "      <td>Ottawa</td>\n",
       "      <td>4.29</td>\n",
       "      <td>broken clouds</td>\n",
       "      <td>83</td>\n",
       "      <td>4.12</td>\n",
       "      <td>3.35</td>\n",
       "      <td>4.99</td>\n",
       "      <td>1009</td>\n",
       "    </tr>\n",
       "    <tr>\n",
       "      <th>14</th>\n",
       "      <td>Canberra</td>\n",
       "      <td>18.67</td>\n",
       "      <td>overcast clouds</td>\n",
       "      <td>83</td>\n",
       "      <td>2.57</td>\n",
       "      <td>17.28</td>\n",
       "      <td>19.59</td>\n",
       "      <td>1014</td>\n",
       "    </tr>\n",
       "    <tr>\n",
       "      <th>15</th>\n",
       "      <td>Brasília</td>\n",
       "      <td>22.51</td>\n",
       "      <td>broken clouds</td>\n",
       "      <td>78</td>\n",
       "      <td>2.57</td>\n",
       "      <td>22.51</td>\n",
       "      <td>24.23</td>\n",
       "      <td>1014</td>\n",
       "    </tr>\n",
       "    <tr>\n",
       "      <th>16</th>\n",
       "      <td>Madrid</td>\n",
       "      <td>11.26</td>\n",
       "      <td>clear sky</td>\n",
       "      <td>55</td>\n",
       "      <td>1.03</td>\n",
       "      <td>9.51</td>\n",
       "      <td>12.59</td>\n",
       "      <td>1028</td>\n",
       "    </tr>\n",
       "    <tr>\n",
       "      <th>17</th>\n",
       "      <td>Rome</td>\n",
       "      <td>18.13</td>\n",
       "      <td>clear sky</td>\n",
       "      <td>60</td>\n",
       "      <td>6.17</td>\n",
       "      <td>17.26</td>\n",
       "      <td>18.60</td>\n",
       "      <td>1007</td>\n",
       "    </tr>\n",
       "    <tr>\n",
       "      <th>18</th>\n",
       "      <td>Bangkok</td>\n",
       "      <td>25.05</td>\n",
       "      <td>overcast clouds</td>\n",
       "      <td>42</td>\n",
       "      <td>2.35</td>\n",
       "      <td>24.39</td>\n",
       "      <td>25.94</td>\n",
       "      <td>1013</td>\n",
       "    </tr>\n",
       "    <tr>\n",
       "      <th>19</th>\n",
       "      <td>Nairobi</td>\n",
       "      <td>21.93</td>\n",
       "      <td>light rain</td>\n",
       "      <td>56</td>\n",
       "      <td>5.66</td>\n",
       "      <td>20.62</td>\n",
       "      <td>21.93</td>\n",
       "      <td>1014</td>\n",
       "    </tr>\n",
       "    <tr>\n",
       "      <th>20</th>\n",
       "      <td>Buenos Aires</td>\n",
       "      <td>29.88</td>\n",
       "      <td>broken clouds</td>\n",
       "      <td>46</td>\n",
       "      <td>8.05</td>\n",
       "      <td>28.82</td>\n",
       "      <td>31.08</td>\n",
       "      <td>1011</td>\n",
       "    </tr>\n",
       "    <tr>\n",
       "      <th>21</th>\n",
       "      <td>Wellington</td>\n",
       "      <td>13.81</td>\n",
       "      <td>light intensity drizzle</td>\n",
       "      <td>82</td>\n",
       "      <td>11.32</td>\n",
       "      <td>13.81</td>\n",
       "      <td>13.81</td>\n",
       "      <td>1005</td>\n",
       "    </tr>\n",
       "    <tr>\n",
       "      <th>22</th>\n",
       "      <td>Oslo</td>\n",
       "      <td>-1.23</td>\n",
       "      <td>snow</td>\n",
       "      <td>51</td>\n",
       "      <td>1.48</td>\n",
       "      <td>-3.02</td>\n",
       "      <td>-1.13</td>\n",
       "      <td>1005</td>\n",
       "    </tr>\n",
       "    <tr>\n",
       "      <th>23</th>\n",
       "      <td>Cairo</td>\n",
       "      <td>17.42</td>\n",
       "      <td>scattered clouds</td>\n",
       "      <td>63</td>\n",
       "      <td>1.54</td>\n",
       "      <td>16.90</td>\n",
       "      <td>17.42</td>\n",
       "      <td>1026</td>\n",
       "    </tr>\n",
       "    <tr>\n",
       "      <th>24</th>\n",
       "      <td>Helsinki</td>\n",
       "      <td>-1.94</td>\n",
       "      <td>few clouds</td>\n",
       "      <td>72</td>\n",
       "      <td>5.66</td>\n",
       "      <td>-3.13</td>\n",
       "      <td>-1.61</td>\n",
       "      <td>1007</td>\n",
       "    </tr>\n",
       "    <tr>\n",
       "      <th>25</th>\n",
       "      <td>Abu Dhabi</td>\n",
       "      <td>24.29</td>\n",
       "      <td>clear sky</td>\n",
       "      <td>52</td>\n",
       "      <td>0.51</td>\n",
       "      <td>23.01</td>\n",
       "      <td>25.53</td>\n",
       "      <td>1016</td>\n",
       "    </tr>\n",
       "  </tbody>\n",
       "</table>\n",
       "</div>"
      ]
     },
     "metadata": {
      "application/vnd.databricks.v1+output": {
       "addedWidgets": {},
       "arguments": {},
       "data": "<div>\n<style scoped>\n    .dataframe tbody tr th:only-of-type {\n        vertical-align: middle;\n    }\n\n    .dataframe tbody tr th {\n        vertical-align: top;\n    }\n\n    .dataframe thead th {\n        text-align: right;\n    }\n</style>\n<table border=\"1\" class=\"dataframe\">\n  <thead>\n    <tr style=\"text-align: right;\">\n      <th></th>\n      <th>City</th>\n      <th>temperature</th>\n      <th>weather</th>\n      <th>humidity</th>\n      <th>wind speed</th>\n      <th>Min_temperature</th>\n      <th>Max_temperature</th>\n      <th>sea_level</th>\n    </tr>\n  </thead>\n  <tbody>\n    <tr>\n      <th>0</th>\n      <td>London</td>\n      <td>11.87</td>\n      <td>broken clouds</td>\n      <td>79</td>\n      <td>6.69</td>\n      <td>10.95</td>\n      <td>12.30</td>\n      <td>1017</td>\n    </tr>\n    <tr>\n      <th>1</th>\n      <td>New York</td>\n      <td>10.27</td>\n      <td>clear sky</td>\n      <td>54</td>\n      <td>2.06</td>\n      <td>8.94</td>\n      <td>11.27</td>\n      <td>1013</td>\n    </tr>\n    <tr>\n      <th>2</th>\n      <td>Tokyo</td>\n      <td>6.26</td>\n      <td>clear sky</td>\n      <td>41</td>\n      <td>6.69</td>\n      <td>5.33</td>\n      <td>6.97</td>\n      <td>1011</td>\n    </tr>\n    <tr>\n      <th>3</th>\n      <td>Mumbai</td>\n      <td>27.99</td>\n      <td>smoke</td>\n      <td>57</td>\n      <td>2.06</td>\n      <td>27.99</td>\n      <td>27.99</td>\n      <td>1015</td>\n    </tr>\n    <tr>\n      <th>4</th>\n      <td>Sydney</td>\n      <td>21.33</td>\n      <td>overcast clouds</td>\n      <td>81</td>\n      <td>2.57</td>\n      <td>19.61</td>\n      <td>22.06</td>\n      <td>1014</td>\n    </tr>\n    <tr>\n      <th>5</th>\n      <td>Singapore</td>\n      <td>25.68</td>\n      <td>broken clouds</td>\n      <td>86</td>\n      <td>3.09</td>\n      <td>25.50</td>\n      <td>25.97</td>\n      <td>1011</td>\n    </tr>\n    <tr>\n      <th>6</th>\n      <td>Seoul</td>\n      <td>-6.24</td>\n      <td>clear sky</td>\n      <td>86</td>\n      <td>0.51</td>\n      <td>-6.24</td>\n      <td>-6.24</td>\n      <td>1023</td>\n    </tr>\n    <tr>\n      <th>7</th>\n      <td>Beijing</td>\n      <td>-6.06</td>\n      <td>clear sky</td>\n      <td>31</td>\n      <td>1.49</td>\n      <td>-6.06</td>\n      <td>-6.06</td>\n      <td>1022</td>\n    </tr>\n    <tr>\n      <th>8</th>\n      <td>Cape Town</td>\n      <td>22.49</td>\n      <td>few clouds</td>\n      <td>59</td>\n      <td>5.14</td>\n      <td>21.60</td>\n      <td>23.48</td>\n      <td>1015</td>\n    </tr>\n    <tr>\n      <th>9</th>\n      <td>Moscow</td>\n      <td>0.16</td>\n      <td>broken clouds</td>\n      <td>89</td>\n      <td>5.38</td>\n      <td>-1.71</td>\n      <td>0.21</td>\n      <td>1007</td>\n    </tr>\n    <tr>\n      <th>10</th>\n      <td>Paris</td>\n      <td>3.81</td>\n      <td>mist</td>\n      <td>95</td>\n      <td>5.66</td>\n      <td>2.99</td>\n      <td>4.49</td>\n      <td>1028</td>\n    </tr>\n    <tr>\n      <th>11</th>\n      <td>Venice</td>\n      <td>23.60</td>\n      <td>clear sky</td>\n      <td>86</td>\n      <td>0.89</td>\n      <td>23.32</td>\n      <td>25.03</td>\n      <td>1016</td>\n    </tr>\n    <tr>\n      <th>12</th>\n      <td>Berlin</td>\n      <td>1.93</td>\n      <td>broken clouds</td>\n      <td>87</td>\n      <td>4.02</td>\n      <td>0.59</td>\n      <td>2.77</td>\n      <td>1022</td>\n    </tr>\n    <tr>\n      <th>13</th>\n      <td>Ottawa</td>\n      <td>4.29</td>\n      <td>broken clouds</td>\n      <td>83</td>\n      <td>4.12</td>\n      <td>3.35</td>\n      <td>4.99</td>\n      <td>1009</td>\n    </tr>\n    <tr>\n      <th>14</th>\n      <td>Canberra</td>\n      <td>18.67</td>\n      <td>overcast clouds</td>\n      <td>83</td>\n      <td>2.57</td>\n      <td>17.28</td>\n      <td>19.59</td>\n      <td>1014</td>\n    </tr>\n    <tr>\n      <th>15</th>\n      <td>Brasília</td>\n      <td>22.51</td>\n      <td>broken clouds</td>\n      <td>78</td>\n      <td>2.57</td>\n      <td>22.51</td>\n      <td>24.23</td>\n      <td>1014</td>\n    </tr>\n    <tr>\n      <th>16</th>\n      <td>Madrid</td>\n      <td>11.26</td>\n      <td>clear sky</td>\n      <td>55</td>\n      <td>1.03</td>\n      <td>9.51</td>\n      <td>12.59</td>\n      <td>1028</td>\n    </tr>\n    <tr>\n      <th>17</th>\n      <td>Rome</td>\n      <td>18.13</td>\n      <td>clear sky</td>\n      <td>60</td>\n      <td>6.17</td>\n      <td>17.26</td>\n      <td>18.60</td>\n      <td>1007</td>\n    </tr>\n    <tr>\n      <th>18</th>\n      <td>Bangkok</td>\n      <td>25.05</td>\n      <td>overcast clouds</td>\n      <td>42</td>\n      <td>2.35</td>\n      <td>24.39</td>\n      <td>25.94</td>\n      <td>1013</td>\n    </tr>\n    <tr>\n      <th>19</th>\n      <td>Nairobi</td>\n      <td>21.93</td>\n      <td>light rain</td>\n      <td>56</td>\n      <td>5.66</td>\n      <td>20.62</td>\n      <td>21.93</td>\n      <td>1014</td>\n    </tr>\n    <tr>\n      <th>20</th>\n      <td>Buenos Aires</td>\n      <td>29.88</td>\n      <td>broken clouds</td>\n      <td>46</td>\n      <td>8.05</td>\n      <td>28.82</td>\n      <td>31.08</td>\n      <td>1011</td>\n    </tr>\n    <tr>\n      <th>21</th>\n      <td>Wellington</td>\n      <td>13.81</td>\n      <td>light intensity drizzle</td>\n      <td>82</td>\n      <td>11.32</td>\n      <td>13.81</td>\n      <td>13.81</td>\n      <td>1005</td>\n    </tr>\n    <tr>\n      <th>22</th>\n      <td>Oslo</td>\n      <td>-1.23</td>\n      <td>snow</td>\n      <td>51</td>\n      <td>1.48</td>\n      <td>-3.02</td>\n      <td>-1.13</td>\n      <td>1005</td>\n    </tr>\n    <tr>\n      <th>23</th>\n      <td>Cairo</td>\n      <td>17.42</td>\n      <td>scattered clouds</td>\n      <td>63</td>\n      <td>1.54</td>\n      <td>16.90</td>\n      <td>17.42</td>\n      <td>1026</td>\n    </tr>\n    <tr>\n      <th>24</th>\n      <td>Helsinki</td>\n      <td>-1.94</td>\n      <td>few clouds</td>\n      <td>72</td>\n      <td>5.66</td>\n      <td>-3.13</td>\n      <td>-1.61</td>\n      <td>1007</td>\n    </tr>\n    <tr>\n      <th>25</th>\n      <td>Abu Dhabi</td>\n      <td>24.29</td>\n      <td>clear sky</td>\n      <td>52</td>\n      <td>0.51</td>\n      <td>23.01</td>\n      <td>25.53</td>\n      <td>1016</td>\n    </tr>\n  </tbody>\n</table>\n</div>",
       "datasetInfos": [],
       "metadata": {},
       "removedWidgets": [],
       "textData": null,
       "type": "htmlSandbox"
      }
     },
     "output_type": "display_data"
    }
   ],
   "source": [
    "df_2"
   ]
  },
  {
   "cell_type": "code",
   "execution_count": 0,
   "metadata": {
    "application/vnd.databricks.v1+cell": {
     "cellMetadata": {
      "byteLimit": 2048000,
      "rowLimit": 10000
     },
     "inputWidgets": {},
     "nuid": "760360fc-3a5f-4803-9672-9611dbf2bd02",
     "showTitle": false,
     "tableResultSettingsMap": {},
     "title": ""
    }
   },
   "outputs": [],
   "source": [
    "import pandas as pd\n",
    "from sklearn.preprocessing import MinMaxScaler\n",
    "\n",
    "# Example DataFrame (replace this with your full dataset)\n",
    "data = [\n",
    "    ['London', 11.25, 'broken clouds', 82, 6.17, 10.28, 12.3, 1018],\n",
    "    ['Wellington', 13.81, 'broken clouds', 82, 10.80, 13.81, 13.81, 1005],\n",
    "    ['Tokyo', 6.83, 'clear sky', 53, 9.77, 5.88, 7.79, 1009],\n",
    "    ['Mumbai', 27.99, 'smoke', 54, 1.54, 27.99, 27.99, 1014],\n",
    "    ['Sydney', 21.51, 'clear sky', 79, 4.12, 20.4, 22.61, 1015],\n",
    "]\n",
    "\n",
    "columns = ['City', 'Temperature', 'Weather Condition', 'Humidity', 'Wind Speed', \n",
    "           'Min Temp', 'Max Temp', 'Sea Level Pressure']\n",
    "\n",
    "df = pd.DataFrame(data, columns=columns)\n",
    "\n",
    "# Scale the numeric columns to a range of 0–1\n",
    "scaler = MinMaxScaler()\n",
    "df[['Temperature', 'Humidity', 'Wind Speed']] = scaler.fit_transform(\n",
    "    df[['Temperature', 'Humidity', 'Wind Speed']]\n",
    ")\n",
    "\n",
    "# Assign weights to each parameter\n",
    "def calculate_comfort_index(row):\n",
    "    temperature_score = 0.4 * (1 - abs(row['Temperature'] - 0.5))  # Penalize for deviation from 0.5 (ideal temp range)\n",
    "    humidity_score = 0.3 * (1 - abs(row['Humidity'] - 0.5))  # Penalize for deviation from 0.5 (ideal humidity)\n",
    "    wind_speed_score = 0.2 * (1 - row['Wind Speed'])  # Lower wind speeds are better\n",
    "    weather_condition_score = 0.1 if \"clear\" in row['Weather Condition'] else 0.05  # Favor clear skies\n",
    "    return temperature_score + humidity_score + wind_speed_score + weather_condition_score\n",
    "\n",
    "# Add Comfort Index column\n",
    "df['Comfort_Index'] = df.apply(calculate_comfort_index, axis=1)\n",
    "\n",
    "# Rank cities by Comfort Index\n",
    "df = df[['City','Comfort_Index']].sort_values(by='Comfort_Index', ascending=False)\n",
    "\n",
    "\n"
   ]
  },
  {
   "cell_type": "code",
   "execution_count": 0,
   "metadata": {
    "application/vnd.databricks.v1+cell": {
     "cellMetadata": {
      "byteLimit": 2048000,
      "rowLimit": 10000
     },
     "inputWidgets": {},
     "nuid": "537c9023-b55a-4729-adb5-2cd5fcf488b1",
     "showTitle": false,
     "tableResultSettingsMap": {},
     "title": ""
    }
   },
   "outputs": [
    {
     "output_type": "stream",
     "name": "stdout",
     "output_type": "stream",
     "text": [
      "         City  Comfort Index\n4      Sydney       0.747806\n3      Mumbai       0.610345\n0      London       0.583554\n1  Wellington       0.531947\n2       Tokyo       0.472246\n"
     ]
    }
   ],
   "source": [
    "print(df[['City', 'Comfort Index']])"
   ]
  },
  {
   "cell_type": "code",
   "execution_count": 0,
   "metadata": {
    "application/vnd.databricks.v1+cell": {
     "cellMetadata": {
      "byteLimit": 2048000,
      "rowLimit": 10000
     },
     "inputWidgets": {},
     "nuid": "0f29504c-b4ae-4507-a7c4-1dbcca41142b",
     "showTitle": false,
     "tableResultSettingsMap": {},
     "title": ""
    }
   },
   "outputs": [
    {
     "output_type": "display_data",
     "data": {
      "text/html": [
       "<div>\n",
       "<style scoped>\n",
       "    .dataframe tbody tr th:only-of-type {\n",
       "        vertical-align: middle;\n",
       "    }\n",
       "\n",
       "    .dataframe tbody tr th {\n",
       "        vertical-align: top;\n",
       "    }\n",
       "\n",
       "    .dataframe thead th {\n",
       "        text-align: right;\n",
       "    }\n",
       "</style>\n",
       "<table border=\"1\" class=\"dataframe\">\n",
       "  <thead>\n",
       "    <tr style=\"text-align: right;\">\n",
       "      <th></th>\n",
       "      <th>City</th>\n",
       "      <th>Temperature</th>\n",
       "      <th>Weather Condition</th>\n",
       "      <th>Humidity</th>\n",
       "      <th>Wind Speed</th>\n",
       "      <th>Min Temp</th>\n",
       "      <th>Max Temp</th>\n",
       "      <th>Sea Level Pressure</th>\n",
       "      <th>Comfort Index</th>\n",
       "    </tr>\n",
       "  </thead>\n",
       "  <tbody>\n",
       "    <tr>\n",
       "      <th>4</th>\n",
       "      <td>Sydney</td>\n",
       "      <td>0.693762</td>\n",
       "      <td>clear sky</td>\n",
       "      <td>0.896552</td>\n",
       "      <td>0.278618</td>\n",
       "      <td>20.40</td>\n",
       "      <td>22.61</td>\n",
       "      <td>1015</td>\n",
       "      <td>0.747806</td>\n",
       "    </tr>\n",
       "    <tr>\n",
       "      <th>3</th>\n",
       "      <td>Mumbai</td>\n",
       "      <td>1.000000</td>\n",
       "      <td>smoke</td>\n",
       "      <td>0.034483</td>\n",
       "      <td>0.000000</td>\n",
       "      <td>27.99</td>\n",
       "      <td>27.99</td>\n",
       "      <td>1014</td>\n",
       "      <td>0.610345</td>\n",
       "    </tr>\n",
       "    <tr>\n",
       "      <th>0</th>\n",
       "      <td>London</td>\n",
       "      <td>0.208885</td>\n",
       "      <td>broken clouds</td>\n",
       "      <td>1.000000</td>\n",
       "      <td>0.500000</td>\n",
       "      <td>10.28</td>\n",
       "      <td>12.30</td>\n",
       "      <td>1018</td>\n",
       "      <td>0.583554</td>\n",
       "    </tr>\n",
       "    <tr>\n",
       "      <th>1</th>\n",
       "      <td>Wellington</td>\n",
       "      <td>0.329868</td>\n",
       "      <td>broken clouds</td>\n",
       "      <td>1.000000</td>\n",
       "      <td>1.000000</td>\n",
       "      <td>13.81</td>\n",
       "      <td>13.81</td>\n",
       "      <td>1005</td>\n",
       "      <td>0.531947</td>\n",
       "    </tr>\n",
       "    <tr>\n",
       "      <th>2</th>\n",
       "      <td>Tokyo</td>\n",
       "      <td>0.000000</td>\n",
       "      <td>clear sky</td>\n",
       "      <td>0.000000</td>\n",
       "      <td>0.888769</td>\n",
       "      <td>5.88</td>\n",
       "      <td>7.79</td>\n",
       "      <td>1009</td>\n",
       "      <td>0.472246</td>\n",
       "    </tr>\n",
       "  </tbody>\n",
       "</table>\n",
       "</div>"
      ]
     },
     "metadata": {
      "application/vnd.databricks.v1+output": {
       "addedWidgets": {},
       "arguments": {},
       "data": "<div>\n<style scoped>\n    .dataframe tbody tr th:only-of-type {\n        vertical-align: middle;\n    }\n\n    .dataframe tbody tr th {\n        vertical-align: top;\n    }\n\n    .dataframe thead th {\n        text-align: right;\n    }\n</style>\n<table border=\"1\" class=\"dataframe\">\n  <thead>\n    <tr style=\"text-align: right;\">\n      <th></th>\n      <th>City</th>\n      <th>Temperature</th>\n      <th>Weather Condition</th>\n      <th>Humidity</th>\n      <th>Wind Speed</th>\n      <th>Min Temp</th>\n      <th>Max Temp</th>\n      <th>Sea Level Pressure</th>\n      <th>Comfort Index</th>\n    </tr>\n  </thead>\n  <tbody>\n    <tr>\n      <th>4</th>\n      <td>Sydney</td>\n      <td>0.693762</td>\n      <td>clear sky</td>\n      <td>0.896552</td>\n      <td>0.278618</td>\n      <td>20.40</td>\n      <td>22.61</td>\n      <td>1015</td>\n      <td>0.747806</td>\n    </tr>\n    <tr>\n      <th>3</th>\n      <td>Mumbai</td>\n      <td>1.000000</td>\n      <td>smoke</td>\n      <td>0.034483</td>\n      <td>0.000000</td>\n      <td>27.99</td>\n      <td>27.99</td>\n      <td>1014</td>\n      <td>0.610345</td>\n    </tr>\n    <tr>\n      <th>0</th>\n      <td>London</td>\n      <td>0.208885</td>\n      <td>broken clouds</td>\n      <td>1.000000</td>\n      <td>0.500000</td>\n      <td>10.28</td>\n      <td>12.30</td>\n      <td>1018</td>\n      <td>0.583554</td>\n    </tr>\n    <tr>\n      <th>1</th>\n      <td>Wellington</td>\n      <td>0.329868</td>\n      <td>broken clouds</td>\n      <td>1.000000</td>\n      <td>1.000000</td>\n      <td>13.81</td>\n      <td>13.81</td>\n      <td>1005</td>\n      <td>0.531947</td>\n    </tr>\n    <tr>\n      <th>2</th>\n      <td>Tokyo</td>\n      <td>0.000000</td>\n      <td>clear sky</td>\n      <td>0.000000</td>\n      <td>0.888769</td>\n      <td>5.88</td>\n      <td>7.79</td>\n      <td>1009</td>\n      <td>0.472246</td>\n    </tr>\n  </tbody>\n</table>\n</div>",
       "datasetInfos": [],
       "metadata": {},
       "removedWidgets": [],
       "textData": null,
       "type": "htmlSandbox"
      }
     },
     "output_type": "display_data"
    }
   ],
   "source": [
    "df"
   ]
  },
  {
   "cell_type": "code",
   "execution_count": 0,
   "metadata": {
    "application/vnd.databricks.v1+cell": {
     "cellMetadata": {
      "byteLimit": 2048000,
      "rowLimit": 10000
     },
     "inputWidgets": {},
     "nuid": "d1139faf-679a-459a-9fd7-a000757a0af6",
     "showTitle": false,
     "tableResultSettingsMap": {},
     "title": ""
    }
   },
   "outputs": [
    {
     "output_type": "display_data",
     "data": {
      "text/html": [
       "<style scoped>\n",
       "  .table-result-container {\n",
       "    max-height: 300px;\n",
       "    overflow: auto;\n",
       "  }\n",
       "  table, th, td {\n",
       "    border: 1px solid black;\n",
       "    border-collapse: collapse;\n",
       "  }\n",
       "  th, td {\n",
       "    padding: 5px;\n",
       "  }\n",
       "  th {\n",
       "    text-align: left;\n",
       "  }\n",
       "</style><div class='table-result-container'><table class='table-result'><thead style='background-color: white'><tr><th>path</th><th>name</th><th>size</th><th>modificationTime</th></tr></thead><tbody><tr><td>dbfs:/FileStore/tables/fooddelivery/food_deliveryDelta.csv/_delta_log/</td><td>_delta_log/</td><td>0</td><td>0</td></tr><tr><td>dbfs:/FileStore/tables/fooddelivery/food_deliveryDelta.csv/part-00000-46de1945-f637-4db5-b3b7-83b27bbe0201-c000.snappy.parquet</td><td>part-00000-46de1945-f637-4db5-b3b7-83b27bbe0201-c000.snappy.parquet</td><td>238778</td><td>1702029120000</td></tr></tbody></table></div>"
      ]
     },
     "metadata": {
      "application/vnd.databricks.v1+output": {
       "addedWidgets": {},
       "aggData": [],
       "aggError": "",
       "aggOverflow": false,
       "aggSchema": [],
       "aggSeriesLimitReached": false,
       "aggType": "",
       "arguments": {},
       "columnCustomDisplayInfos": {},
       "data": [
        [
         "dbfs:/FileStore/tables/fooddelivery/food_deliveryDelta.csv/_delta_log/",
         "_delta_log/",
         0,
         0
        ],
        [
         "dbfs:/FileStore/tables/fooddelivery/food_deliveryDelta.csv/part-00000-46de1945-f637-4db5-b3b7-83b27bbe0201-c000.snappy.parquet",
         "part-00000-46de1945-f637-4db5-b3b7-83b27bbe0201-c000.snappy.parquet",
         238778,
         1702029120000
        ]
       ],
       "datasetInfos": [],
       "dbfsResultPath": null,
       "isJsonSchema": true,
       "metadata": {
        "isDbfsCommandResult": false
       },
       "overflow": false,
       "plotOptions": {
        "customPlotOptions": {},
        "displayType": "table",
        "pivotAggregation": null,
        "pivotColumns": null,
        "xColumns": null,
        "yColumns": null
       },
       "removedWidgets": [],
       "schema": [
        {
         "metadata": "{}",
         "name": "path",
         "type": "\"string\""
        },
        {
         "metadata": "{}",
         "name": "name",
         "type": "\"string\""
        },
        {
         "metadata": "{}",
         "name": "size",
         "type": "\"long\""
        },
        {
         "metadata": "{}",
         "name": "modificationTime",
         "type": "\"long\""
        }
       ],
       "type": "table"
      }
     },
     "output_type": "display_data"
    }
   ],
   "source": [
    "%fs ls 'dbfs:/FileStore/tables/fooddelivery/food_deliveryDelta.csv'"
   ]
  },
  {
   "cell_type": "code",
   "execution_count": 0,
   "metadata": {
    "application/vnd.databricks.v1+cell": {
     "cellMetadata": {
      "byteLimit": 2048000,
      "rowLimit": 10000
     },
     "inputWidgets": {},
     "nuid": "53a0b44b-dbc6-49a1-9cd4-73d7e92136f5",
     "showTitle": false,
     "tableResultSettingsMap": {},
     "title": ""
    }
   },
   "outputs": [],
   "source": [
    "df = spark.read.json(\"dbfs:/FileStore/tables/weather_alerts.json\")"
   ]
  },
  {
   "cell_type": "code",
   "execution_count": 0,
   "metadata": {
    "application/vnd.databricks.v1+cell": {
     "cellMetadata": {
      "byteLimit": 2048000,
      "rowLimit": 10000
     },
     "inputWidgets": {},
     "nuid": "07e73d01-254d-4fa5-ac30-712e4259f6da",
     "showTitle": false,
     "tableResultSettingsMap": {},
     "title": ""
    }
   },
   "outputs": [
    {
     "output_type": "display_data",
     "data": {
      "text/html": [
       "<style scoped>\n",
       "  .table-result-container {\n",
       "    max-height: 300px;\n",
       "    overflow: auto;\n",
       "  }\n",
       "  table, th, td {\n",
       "    border: 1px solid black;\n",
       "    border-collapse: collapse;\n",
       "  }\n",
       "  th, td {\n",
       "    padding: 5px;\n",
       "  }\n",
       "  th {\n",
       "    text-align: left;\n",
       "  }\n",
       "</style><div class='table-result-container'><table class='table-result'><thead style='background-color: white'><tr><th>Alert</th><th>city</th><th>humidity</th><th>max_temperature</th><th>min_temperature</th><th>sea_level</th><th>temperature</th><th>weather</th><th>wind_speed</th></tr></thead><tbody><tr><td>Humidity Warning</td><td>Moscow</td><td>91</td><td>1.32</td><td>-1.76</td><td>1004</td><td>1.17</td><td>overcast clouds</td><td>4.9</td></tr><tr><td>Humidity Warning</td><td>Venice</td><td>95</td><td>21.14</td><td>20.56</td><td>1015</td><td>20.97</td><td>clear sky</td><td>0.45</td></tr></tbody></table></div>"
      ]
     },
     "metadata": {
      "application/vnd.databricks.v1+output": {
       "addedWidgets": {},
       "aggData": [],
       "aggError": "",
       "aggOverflow": false,
       "aggSchema": [],
       "aggSeriesLimitReached": false,
       "aggType": "",
       "arguments": {},
       "columnCustomDisplayInfos": {},
       "data": [
        [
         "Humidity Warning",
         "Moscow",
         91,
         1.32,
         -1.76,
         1004,
         1.17,
         "overcast clouds",
         4.9
        ],
        [
         "Humidity Warning",
         "Venice",
         95,
         21.14,
         20.56,
         1015,
         20.97,
         "clear sky",
         0.45
        ]
       ],
       "datasetInfos": [],
       "dbfsResultPath": null,
       "isJsonSchema": true,
       "metadata": {},
       "overflow": false,
       "plotOptions": {
        "customPlotOptions": {},
        "displayType": "table",
        "pivotAggregation": null,
        "pivotColumns": null,
        "xColumns": null,
        "yColumns": null
       },
       "removedWidgets": [],
       "schema": [
        {
         "metadata": "{}",
         "name": "Alert",
         "type": "\"string\""
        },
        {
         "metadata": "{}",
         "name": "city",
         "type": "\"string\""
        },
        {
         "metadata": "{}",
         "name": "humidity",
         "type": "\"long\""
        },
        {
         "metadata": "{}",
         "name": "max_temperature",
         "type": "\"double\""
        },
        {
         "metadata": "{}",
         "name": "min_temperature",
         "type": "\"double\""
        },
        {
         "metadata": "{}",
         "name": "sea_level",
         "type": "\"long\""
        },
        {
         "metadata": "{}",
         "name": "temperature",
         "type": "\"double\""
        },
        {
         "metadata": "{}",
         "name": "weather",
         "type": "\"string\""
        },
        {
         "metadata": "{}",
         "name": "wind_speed",
         "type": "\"double\""
        }
       ],
       "type": "table"
      }
     },
     "output_type": "display_data"
    }
   ],
   "source": [
    "display(df)"
   ]
  },
  {
   "cell_type": "code",
   "execution_count": 0,
   "metadata": {
    "application/vnd.databricks.v1+cell": {
     "cellMetadata": {},
     "inputWidgets": {},
     "nuid": "f7dcdf0b-28a6-42ec-965b-10dfaf7af3a1",
     "showTitle": false,
     "tableResultSettingsMap": {},
     "title": ""
    }
   },
   "outputs": [],
   "source": []
  }
 ],
 "metadata": {
  "application/vnd.databricks.v1+notebook": {
   "computePreferences": null,
   "dashboards": [],
   "environmentMetadata": {
    "base_environment": "",
    "client": "1"
   },
   "language": "python",
   "notebookMetadata": {
    "mostRecentlyExecutedCommandWithImplicitDF": {
     "commandId": 3581412560901375,
     "dataframes": [
      "_sqldf"
     ]
    },
    "pythonIndentUnit": 4
   },
   "notebookName": "OpenWeather_Api_test",
   "widgets": {}
  }
 },
 "nbformat": 4,
 "nbformat_minor": 0
}
