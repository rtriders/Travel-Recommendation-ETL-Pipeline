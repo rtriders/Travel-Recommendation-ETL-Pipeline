{
 "cells": [
  {
   "cell_type": "code",
   "execution_count": 0,
   "metadata": {
    "application/vnd.databricks.v1+cell": {
     "cellMetadata": {
      "byteLimit": 2048000,
      "rowLimit": 10000
     },
     "inputWidgets": {},
     "nuid": "01b1569b-a6ef-42d8-a24f-43c67131b70b",
     "showTitle": false,
     "tableResultSettingsMap": {},
     "title": ""
    }
   },
   "outputs": [
    {
     "output_type": "display_data",
     "data": {
      "application/vnd.databricks.v1+bamboolib_hint": "{\"pd.DataFrames\": [], \"version\": \"0.0.1\"}",
      "text/plain": []
     },
     "metadata": {},
     "output_type": "display_data"
    }
   ],
   "source": [
    "from pyspark.sql.functions import col,when\n",
    "import pandas as pd\n",
    "from pyspark.sql.types import StructType, StructField, StringType, DoubleType, IntegerType\n",
    "import requests\n",
    "from pyspark.sql.functions import when, col, array, concat_ws\n",
    "import pandas as pd\n"
   ]
  },
  {
   "cell_type": "code",
   "execution_count": 0,
   "metadata": {
    "application/vnd.databricks.v1+cell": {
     "cellMetadata": {
      "byteLimit": 2048000,
      "rowLimit": 10000
     },
     "inputWidgets": {},
     "nuid": "f6c963bc-429c-45d6-b5e4-ed3b9f8f1f09",
     "showTitle": false,
     "tableResultSettingsMap": {},
     "title": ""
    }
   },
   "outputs": [
    {
     "output_type": "stream",
     "name": "stdout",
     "output_type": "stream",
     "text": [
      "{'coord': {'lon': 126.9778, 'lat': 37.5683}, 'weather': [{'id': 800, 'main': 'Clear', 'description': 'clear sky', 'icon': '01n'}], 'base': 'stations', 'main': {'temp': 272.81, 'feels_like': 272.81, 'temp_min': 272.81, 'temp_max': 272.81, 'pressure': 1023, 'humidity': 39, 'sea_level': 1023, 'grnd_level': 1013}, 'visibility': 10000, 'wind': {'speed': 1.04, 'deg': 171, 'gust': 0.98}, 'clouds': {'all': 0}, 'dt': 1735661644, 'sys': {'country': 'KR', 'sunrise': 1735685212, 'sunset': 1735719833}, 'timezone': 32400, 'id': 1835848, 'name': 'Seoul', 'cod': 200}\n"
     ]
    }
   ],
   "source": [
    "api_key = \"408a589f7f2d505ff09be001d178006b\" \n",
    "base_url = \"http://api.openweathermap.org/data/2.5/weather\"\n",
    "city = \"Seoul\"\n",
    "url = f\"{base_url}?q={city}&appid={api_key}\"\n",
    "response = requests.get(url)\n",
    "print(response.json())"
   ]
  },
  {
   "cell_type": "code",
   "execution_count": 0,
   "metadata": {
    "application/vnd.databricks.v1+cell": {
     "cellMetadata": {
      "byteLimit": 2048000,
      "rowLimit": 10000
     },
     "inputWidgets": {},
     "nuid": "61d614ef-8264-4c7c-88e2-2210e3f74c87",
     "showTitle": false,
     "tableResultSettingsMap": {},
     "title": ""
    }
   },
   "outputs": [
    {
     "output_type": "stream",
     "name": "stdout",
     "output_type": "stream",
     "text": [
      "[['London', 6.8, 'heavy intensity rain', 90, 7.2, 5.9, 7.95, 1006], ['New York', 8.24, 'mist', 88, 5.66, 6.88, 8.98, 1000], ['Tokyo', 6.49, 'few clouds', 43, 3.09, 5.88, 8.08, 1017], ['Mumbai', 27.99, 'haze', 51, 2.57, 27.99, 27.99, 1013], ['Sydney', 23.43, 'overcast clouds', 82, 8.23, 21.79, 24.28, 1014], ['Singapore', 26.75, 'broken clouds', 83, 4.63, 26.61, 26.97, 1011], ['Seoul', -0.24, 'clear sky', 80, 2.57, -1.22, -0.24, 1024], ['Beijing', -3.06, 'broken clouds', 32, 2.02, -3.06, -3.06, 1029], ['Cape Town', 24.7, 'clear sky', 47, 7.72, 23.84, 26.72, 1013], ['Moscow', -0.42, 'light snow', 98, 6.31, -1.76, -0.35, 1000], ['Paris', 7.4, 'overcast clouds', 88, 8.23, 6.32, 8.02, 1018], ['Venice', 19.71, 'clear sky', 94, 0.45, 18.35, 19.99, 1020], ['Berlin', 7.0, 'scattered clouds', 77, 11.62, 6.66, 7.77, 1008], ['Ottawa', 2.01, 'light rain', 89, 5.66, 0.91, 2.77, 1001], ['Canberra', 17.09, 'broken clouds', 82, 3.6, 16.38, 18.07, 1016], ['Brasília', 22.51, 'thunderstorm', 83, 2.57, 22.01, 22.51, 1015], ['Madrid', 10.13, 'few clouds', 59, 1.54, 9.58, 10.77, 1029], ['Rome', 5.66, 'overcast clouds', 76, 0, 4.03, 6.98, 1023], ['Bangkok', 25.29, 'clear sky', 58, 3.21, 24.96, 26.94, 1012], ['Nairobi', 24.93, 'few clouds', 44, 5.14, 24.93, 24.93, 1010], ['Buenos Aires', 29.23, 'overcast clouds', 62, 8.05, 27.82, 30.94, 1010], ['Wellington', 13.81, 'drizzle', 88, 6.17, 13.81, 13.81, 1008], ['Oslo', -3.98, 'light snow', 59, 3.84, -5.25, -3.91, 992], ['Cairo', 19.42, 'scattered clouds', 45, 3.6, 19.12, 19.42, 1026], ['Helsinki', -1.54, 'broken clouds', 87, 4.02, -2.53, -1.05, 983], ['Abu Dhabi', 23.44, 'few clouds', 60, 7.2, 23.01, 23.86, 1017]]\n"
     ]
    }
   ],
   "source": [
    "\n",
    "Weather_list1 = []\n",
    "# Your OpenWeather API key\n",
    "api_key = \"408a589f7f2d505ff09be001d178006b\"  # Replace with your actual API key\n",
    "\n",
    "# List of cities to get weather for\n",
    "cities = [\"London\", \"New York\", \"Tokyo\", \"Mumbai\", \"Sydney\", \"Singapore\", \"Seoul\", \"Beijing\", \"Cape Town\",\"Moscow\", \"Paris\", \"Venice\", \"Berlin\", \"Ottawa\", \"Canberra\", \"Brasília\", \"Madrid\", \"Rome\", \"Bangkok\",\"Nairobi\", \"Buenos Aires\", \"Wellington\", \"Oslo\", \"Cairo\", \"Helsinki\",\"Abu Dhabi\"]\n",
    "\n",
    "\n",
    "# Base URL for the OpenWeather API\n",
    "base_url = \"http://api.openweathermap.org/data/2.5/weather\"\n",
    "\n",
    "# Function to fetch weather for a single city\n",
    "def get_weather(city, api_key):\n",
    "    try:\n",
    "        # Construct the request URL\n",
    "        url = f\"{base_url}?q={city}&appid={api_key}\"\n",
    "        response = requests.get(url)\n",
    "        \n",
    "        if response.status_code == 200:\n",
    "            data = response.json()\n",
    "            # Extract useful information\n",
    "            weather_info = [\n",
    "                data[\"name\"],\n",
    "                round(data[\"main\"][\"temp\"] - 273.15, 2),  # Convert Kelvin to Celsius\n",
    "                data[\"weather\"][0][\"description\"],\n",
    "                data[\"main\"][\"humidity\"],\n",
    "                data[\"wind\"][\"speed\"],\n",
    "                round(data[\"main\"][\"temp_min\"] - 273.15, 2),\n",
    "                round(data[\"main\"][\"temp_max\"] - 273.15, 2),\n",
    "                data[\"main\"][\"sea_level\"]\n",
    "                \n",
    "                \n",
    "            ]\n",
    "            return weather_info\n",
    "        else:\n",
    "            return {\"city\": city, \"error\": f\"Error {response.status_code}: {response.text}\"}\n",
    "    except Exception as e:\n",
    "        return {\"city\": city, \"error\": str(e)}\n",
    "\n",
    "# Fetch weather for all cities\n",
    "for city in cities:\n",
    "    weather = get_weather(city, api_key)\n",
    "    Weather_list1.append(weather)\n",
    "\n",
    "\n",
    "print(Weather_list1)\n",
    "\n",
    "df_new = pd.DataFrame(Weather_list1, columns=['City', 'temperature', 'weather', 'humidity', 'wind speed', 'Min_temperature', 'Max_temperature', 'sea_level'])\n",
    "\n",
    "df_2 = df_new.copy()\n",
    "   \n",
    "# Normalize columns directly using a loop\n",
    "columns_to_normalize = ['temperature', 'humidity', 'wind speed']\n",
    "normalized_columns = []\n",
    "\n",
    "# Loop through each column to normalize and store normalized column names\n",
    "for column in columns_to_normalize:\n",
    "    min_val = df_new[column].min()\n",
    "    max_val = df_new[column].max()\n",
    "    normalized_col_name = f\"{column}_normalized\"\n",
    "    df_new[normalized_col_name] = (df_new[column] - min_val) / (max_val - min_val)\n",
    "    normalized_columns.append(normalized_col_name)\n",
    "\n",
    "# Calculate Comfort Index using a loop\n",
    "comfort_index = []\n",
    "for _, row in df_new.iterrows():\n",
    "    temperature_score = 0.4 * (1 - abs(row['temperature_normalized'] - 0.5))\n",
    "    humidity_score = 0.3 * (1 - abs(row['humidity_normalized'] - 0.5))\n",
    "    wind_speed_score = 0.2 * (1 - row['wind speed_normalized'])\n",
    "    weather_condition_score = 0.1 if \"clear\" in row['weather'].lower() else 0.05\n",
    "    comfort_index.append(\n",
    "        temperature_score + humidity_score + wind_speed_score + weather_condition_score\n",
    "    )\n",
    "\n",
    "# Assign the Comfort Index to the DataFrame\n",
    "df_new['Comfort_Index'] = comfort_index\n",
    "\n",
    "df_new_final = df_new[['City','Comfort_Index']].sort_values(by='Comfort_Index',ascending=False)\n",
    "\n",
    "\n"
   ]
  },
  {
   "cell_type": "code",
   "execution_count": 0,
   "metadata": {
    "application/vnd.databricks.v1+cell": {
     "cellMetadata": {
      "byteLimit": 2048000,
      "rowLimit": 10000
     },
     "inputWidgets": {},
     "nuid": "2efca7fb-ee82-49c0-9ded-543094080fd7",
     "showTitle": false,
     "tableResultSettingsMap": {},
     "title": ""
    }
   },
   "outputs": [
    {
     "output_type": "display_data",
     "data": {
      "text/html": [
       "<div>\n",
       "<style scoped>\n",
       "    .dataframe tbody tr th:only-of-type {\n",
       "        vertical-align: middle;\n",
       "    }\n",
       "\n",
       "    .dataframe tbody tr th {\n",
       "        vertical-align: top;\n",
       "    }\n",
       "\n",
       "    .dataframe thead th {\n",
       "        text-align: right;\n",
       "    }\n",
       "</style>\n",
       "<table border=\"1\" class=\"dataframe\">\n",
       "  <thead>\n",
       "    <tr style=\"text-align: right;\">\n",
       "      <th></th>\n",
       "      <th>City</th>\n",
       "      <th>Comfort_Index</th>\n",
       "    </tr>\n",
       "  </thead>\n",
       "  <tbody>\n",
       "    <tr>\n",
       "      <th>16</th>\n",
       "      <td>Madrid</td>\n",
       "      <td>0.866170</td>\n",
       "    </tr>\n",
       "    <tr>\n",
       "      <th>17</th>\n",
       "      <td>Rome</td>\n",
       "      <td>0.816110</td>\n",
       "    </tr>\n",
       "    <tr>\n",
       "      <th>11</th>\n",
       "      <td>Venice</td>\n",
       "      <td>0.775101</td>\n",
       "    </tr>\n",
       "    <tr>\n",
       "      <th>18</th>\n",
       "      <td>Bangkok</td>\n",
       "      <td>0.760388</td>\n",
       "    </tr>\n",
       "    <tr>\n",
       "      <th>14</th>\n",
       "      <td>Canberra</td>\n",
       "      <td>0.756986</td>\n",
       "    </tr>\n",
       "    <tr>\n",
       "      <th>6</th>\n",
       "      <td>Seoul</td>\n",
       "      <td>0.732631</td>\n",
       "    </tr>\n",
       "    <tr>\n",
       "      <th>21</th>\n",
       "      <td>Wellington</td>\n",
       "      <td>0.724986</td>\n",
       "    </tr>\n",
       "    <tr>\n",
       "      <th>2</th>\n",
       "      <td>Tokyo</td>\n",
       "      <td>0.722922</td>\n",
       "    </tr>\n",
       "    <tr>\n",
       "      <th>23</th>\n",
       "      <td>Cairo</td>\n",
       "      <td>0.715286</td>\n",
       "    </tr>\n",
       "    <tr>\n",
       "      <th>15</th>\n",
       "      <td>Brasília</td>\n",
       "      <td>0.704887</td>\n",
       "    </tr>\n",
       "    <tr>\n",
       "      <th>1</th>\n",
       "      <td>New York</td>\n",
       "      <td>0.695221</td>\n",
       "    </tr>\n",
       "    <tr>\n",
       "      <th>25</th>\n",
       "      <td>Abu Dhabi</td>\n",
       "      <td>0.673086</td>\n",
       "    </tr>\n",
       "    <tr>\n",
       "      <th>3</th>\n",
       "      <td>Mumbai</td>\n",
       "      <td>0.657065</td>\n",
       "    </tr>\n",
       "    <tr>\n",
       "      <th>22</th>\n",
       "      <td>Oslo</td>\n",
       "      <td>0.656634</td>\n",
       "    </tr>\n",
       "    <tr>\n",
       "      <th>0</th>\n",
       "      <td>London</td>\n",
       "      <td>0.642280</td>\n",
       "    </tr>\n",
       "    <tr>\n",
       "      <th>10</th>\n",
       "      <td>Paris</td>\n",
       "      <td>0.640869</td>\n",
       "    </tr>\n",
       "    <tr>\n",
       "      <th>8</th>\n",
       "      <td>Cape Town</td>\n",
       "      <td>0.639869</td>\n",
       "    </tr>\n",
       "    <tr>\n",
       "      <th>12</th>\n",
       "      <td>Berlin</td>\n",
       "      <td>0.627704</td>\n",
       "    </tr>\n",
       "    <tr>\n",
       "      <th>5</th>\n",
       "      <td>Singapore</td>\n",
       "      <td>0.618362</td>\n",
       "    </tr>\n",
       "    <tr>\n",
       "      <th>19</th>\n",
       "      <td>Nairobi</td>\n",
       "      <td>0.617869</td>\n",
       "    </tr>\n",
       "    <tr>\n",
       "      <th>13</th>\n",
       "      <td>Ottawa</td>\n",
       "      <td>0.615638</td>\n",
       "    </tr>\n",
       "    <tr>\n",
       "      <th>24</th>\n",
       "      <td>Helsinki</td>\n",
       "      <td>0.610198</td>\n",
       "    </tr>\n",
       "    <tr>\n",
       "      <th>4</th>\n",
       "      <td>Sydney</td>\n",
       "      <td>0.600933</td>\n",
       "    </tr>\n",
       "    <tr>\n",
       "      <th>20</th>\n",
       "      <td>Buenos Aires</td>\n",
       "      <td>0.597809</td>\n",
       "    </tr>\n",
       "    <tr>\n",
       "      <th>7</th>\n",
       "      <td>Beijing</td>\n",
       "      <td>0.576313</td>\n",
       "    </tr>\n",
       "    <tr>\n",
       "      <th>9</th>\n",
       "      <td>Moscow</td>\n",
       "      <td>0.534273</td>\n",
       "    </tr>\n",
       "  </tbody>\n",
       "</table>\n",
       "</div>"
      ]
     },
     "metadata": {
      "application/vnd.databricks.v1+output": {
       "addedWidgets": {},
       "arguments": {},
       "data": "<div>\n<style scoped>\n    .dataframe tbody tr th:only-of-type {\n        vertical-align: middle;\n    }\n\n    .dataframe tbody tr th {\n        vertical-align: top;\n    }\n\n    .dataframe thead th {\n        text-align: right;\n    }\n</style>\n<table border=\"1\" class=\"dataframe\">\n  <thead>\n    <tr style=\"text-align: right;\">\n      <th></th>\n      <th>City</th>\n      <th>Comfort_Index</th>\n    </tr>\n  </thead>\n  <tbody>\n    <tr>\n      <th>16</th>\n      <td>Madrid</td>\n      <td>0.866170</td>\n    </tr>\n    <tr>\n      <th>17</th>\n      <td>Rome</td>\n      <td>0.816110</td>\n    </tr>\n    <tr>\n      <th>11</th>\n      <td>Venice</td>\n      <td>0.775101</td>\n    </tr>\n    <tr>\n      <th>18</th>\n      <td>Bangkok</td>\n      <td>0.760388</td>\n    </tr>\n    <tr>\n      <th>14</th>\n      <td>Canberra</td>\n      <td>0.756986</td>\n    </tr>\n    <tr>\n      <th>6</th>\n      <td>Seoul</td>\n      <td>0.732631</td>\n    </tr>\n    <tr>\n      <th>21</th>\n      <td>Wellington</td>\n      <td>0.724986</td>\n    </tr>\n    <tr>\n      <th>2</th>\n      <td>Tokyo</td>\n      <td>0.722922</td>\n    </tr>\n    <tr>\n      <th>23</th>\n      <td>Cairo</td>\n      <td>0.715286</td>\n    </tr>\n    <tr>\n      <th>15</th>\n      <td>Brasília</td>\n      <td>0.704887</td>\n    </tr>\n    <tr>\n      <th>1</th>\n      <td>New York</td>\n      <td>0.695221</td>\n    </tr>\n    <tr>\n      <th>25</th>\n      <td>Abu Dhabi</td>\n      <td>0.673086</td>\n    </tr>\n    <tr>\n      <th>3</th>\n      <td>Mumbai</td>\n      <td>0.657065</td>\n    </tr>\n    <tr>\n      <th>22</th>\n      <td>Oslo</td>\n      <td>0.656634</td>\n    </tr>\n    <tr>\n      <th>0</th>\n      <td>London</td>\n      <td>0.642280</td>\n    </tr>\n    <tr>\n      <th>10</th>\n      <td>Paris</td>\n      <td>0.640869</td>\n    </tr>\n    <tr>\n      <th>8</th>\n      <td>Cape Town</td>\n      <td>0.639869</td>\n    </tr>\n    <tr>\n      <th>12</th>\n      <td>Berlin</td>\n      <td>0.627704</td>\n    </tr>\n    <tr>\n      <th>5</th>\n      <td>Singapore</td>\n      <td>0.618362</td>\n    </tr>\n    <tr>\n      <th>19</th>\n      <td>Nairobi</td>\n      <td>0.617869</td>\n    </tr>\n    <tr>\n      <th>13</th>\n      <td>Ottawa</td>\n      <td>0.615638</td>\n    </tr>\n    <tr>\n      <th>24</th>\n      <td>Helsinki</td>\n      <td>0.610198</td>\n    </tr>\n    <tr>\n      <th>4</th>\n      <td>Sydney</td>\n      <td>0.600933</td>\n    </tr>\n    <tr>\n      <th>20</th>\n      <td>Buenos Aires</td>\n      <td>0.597809</td>\n    </tr>\n    <tr>\n      <th>7</th>\n      <td>Beijing</td>\n      <td>0.576313</td>\n    </tr>\n    <tr>\n      <th>9</th>\n      <td>Moscow</td>\n      <td>0.534273</td>\n    </tr>\n  </tbody>\n</table>\n</div>",
       "datasetInfos": [],
       "metadata": {},
       "removedWidgets": [],
       "textData": null,
       "type": "htmlSandbox"
      }
     },
     "output_type": "display_data"
    }
   ],
   "source": [
    "df_new_final"
   ]
  }
 ],
 "metadata": {
  "application/vnd.databricks.v1+notebook": {
   "computePreferences": null,
   "dashboards": [],
   "environmentMetadata": {
    "base_environment": "",
    "client": "1"
   },
   "language": "python",
   "notebookMetadata": {
    "mostRecentlyExecutedCommandWithImplicitDF": {
     "commandId": 3581412560901375,
     "dataframes": [
      "_sqldf"
     ]
    },
    "pythonIndentUnit": 4
   },
   "notebookName": "OpenWeather_Api_test",
   "widgets": {}
  }
 },
 "nbformat": 4,
 "nbformat_minor": 0
}
